{
 "cells": [
  {
   "cell_type": "markdown",
   "metadata": {},
   "source": [
    "<h1>Chargement du modèle</h1>"
   ]
  },
  {
   "cell_type": "code",
   "execution_count": null,
   "metadata": {},
   "outputs": [
    {
     "name": "stderr",
     "output_type": "stream",
     "text": [
      "C:\\Users\\Steffen\\AppData\\Local\\Temp\\ipykernel_1400\\4150805002.py:2: DtypeWarning: Columns (5) have mixed types. Specify dtype option on import or set low_memory=False.\n",
      "  df = pd.read_csv('reviews_FINAL.csv')\n"
     ]
    }
   ],
   "source": [
    "import pandas as pd\n",
    "df = pd.read_csv('data/original.csv')\n",
    "max_per_class = 10000\n",
    "batch_size = 32\n",
    "for rating in range(1,6):\n",
    "    df_rating = df[df['rating'] == rating]\n",
    "    if len(df_rating) > max_per_class:\n",
    "        df = df.drop(df_rating.index[max_per_class:])"
   ]
  },
  {
   "cell_type": "code",
   "execution_count": 8,
   "metadata": {},
   "outputs": [],
   "source": [
    "df[\"day_diff\"] = pd.to_datetime(df[\"dates.publishedDate\"]) - pd.to_datetime(df[\"dates.experiencedDate\"])\n",
    "df[\"day_diff\"] = df[\"day_diff\"].dt.days.fillna(0)\n",
    "df = df[[\"rating\", \"text\", \"day_diff\"]]"
   ]
  },
  {
   "cell_type": "code",
   "execution_count": null,
   "metadata": {},
   "outputs": [
    {
     "name": "stderr",
     "output_type": "stream",
     "text": [
      "d:\\Steffen\\Documents\\DL_project\\.venv\\lib\\site-packages\\tqdm\\auto.py:21: TqdmWarning: IProgress not found. Please update jupyter and ipywidgets. See https://ipywidgets.readthedocs.io/en/stable/user_install.html\n",
      "  from .autonotebook import tqdm as notebook_tqdm\n"
     ]
    }
   ],
   "source": [
    "import torch\n",
    "import torch.nn as nn\n",
    "import torch.optim as optim\n",
    "from transformers import BertTokenizer, BertModel\n",
    "from torch.utils.data import Dataset, DataLoader\n",
    "device = torch.device(\"cuda\" if torch.cuda.is_available() else \"cpu\")\n",
    "\n",
    "\n",
    "tokenizer = BertTokenizer.from_pretrained(\"bert-base-uncased\")\n",
    "\n",
    "\n",
    "class ReviewDataset(Dataset):\n",
    "    def __init__(self, texts, metadata, labels, tokenizer, max_len=128):\n",
    "        self.texts = texts\n",
    "        self.metadata = metadata\n",
    "        self.labels = labels\n",
    "        self.tokenizer = tokenizer\n",
    "        self.max_len = max_len\n",
    "\n",
    "    def __len__(self):\n",
    "        return len(self.texts)\n",
    "\n",
    "    def __getitem__(self, idx):\n",
    "        text = self.texts[idx]\n",
    "        metadata = torch.tensor(self.metadata[idx], dtype=torch.float32)\n",
    "        label = torch.tensor(self.labels[idx], dtype=torch.float32)\n",
    "        \n",
    "        encoding = self.tokenizer(text, truncation=True, padding='max_length', max_length=self.max_len, return_tensors=\"pt\")\n",
    "        \n",
    "        return {\n",
    "            'input_ids': encoding['input_ids'].squeeze(0),\n",
    "            'attention_mask': encoding['attention_mask'].squeeze(0),\n",
    "            'metadata': metadata,\n",
    "            'label': label\n",
    "        }\n",
    "\n",
    "\n",
    "class BERTWithMetadata(nn.Module):\n",
    "    def __init__(self, bert_model_name, metadata_dim, hidden_dim=128, num_classes=1):\n",
    "        super(BERTWithMetadata, self).__init__()\n",
    "        self.bert = BertModel.from_pretrained(bert_model_name) # Init du modèle Bert\n",
    "        self.metadata_fc = nn.Linear(metadata_dim, hidden_dim) # Couche linéaire pour les métadonnées\n",
    "        self.fc1 = nn.Linear(self.bert.config.hidden_size + hidden_dim, hidden_dim) # Combinaison Bert + Métadonnées\n",
    "        self.fc2 = nn.Linear(hidden_dim, num_classes) # Transformation finale vers la prédiction\n",
    "        self.dropout = nn.Dropout(0.3) # Dropout de 30% contre l'overfitting\n",
    "        self.relu = nn.ReLU() # Fonction d'activation ReLU\n",
    "        \n",
    "    def forward(self, input_ids, attention_mask, metadata):\n",
    "        bert_output = self.bert(input_ids=input_ids, attention_mask=attention_mask)\n",
    "        text_features = bert_output.pooler_output\n",
    "        \n",
    "        metadata_features = self.relu(self.metadata_fc(metadata))\n",
    "        \n",
    "        combined = torch.cat((text_features, metadata_features), dim=1)\n",
    "        x = self.relu(self.fc1(combined))\n",
    "        x = self.dropout(x)\n",
    "        output = self.fc2(x)\n",
    "        \n",
    "        return output\n",
    "\n",
    "\n",
    "def train_model(texts, metadata, labels, tokenizer):\n",
    "\n",
    "    \n",
    "    dataset = ReviewDataset(texts, metadata, labels, tokenizer)\n",
    "    dataloader = DataLoader(dataset, batch_size=batch_size, shuffle=True)\n",
    "    \n",
    "    device = torch.device(\"cuda\" if torch.cuda.is_available() else \"cpu\")\n",
    "    model = BERTWithMetadata(\"bert-base-uncased\", metadata_dim=1).to(device)\n",
    "    \n",
    "    criterion = nn.MSELoss()\n",
    "    optimizer = optim.AdamW(model.parameters(), lr=2e-5)\n",
    "    \n",
    "    model.train()\n",
    "    for epoch in range(3):\n",
    "        # torch.cuda.empty_cache()\n",
    "        for batch in dataloader:\n",
    "            input_ids = batch['input_ids'].to(device)\n",
    "            attention_mask = batch['attention_mask'].to(device)\n",
    "            metadata = batch['metadata'].to(device)\n",
    "            labels = batch['label'].to(device).unsqueeze(1)\n",
    "            \n",
    "            optimizer.zero_grad()\n",
    "            outputs = model(input_ids, attention_mask, metadata)\n",
    "            loss = criterion(outputs, labels)\n",
    "            loss.backward()\n",
    "            optimizer.step()\n",
    "            \n",
    "            print(f\"Epoch {epoch+1}, Loss: {loss.item():.4f}\")\n",
    "    return(model)\n",
    "\n",
    "# train_model()\n",
    "\n"
   ]
  },
  {
   "cell_type": "code",
   "execution_count": null,
   "metadata": {},
   "outputs": [],
   "source": [
    "from sklearn.metrics import mean_squared_error\n",
    "import numpy as np\n",
    "\n",
    "def test_model(model, test_texts, test_metadata, test_labels, tokenizer, batch_size=32, max_len=128):\n",
    "    \n",
    "    test_dataset = ReviewDataset(test_texts, test_metadata, test_labels, tokenizer, max_len=max_len)\n",
    "    test_dataloader = DataLoader(test_dataset, batch_size=batch_size, shuffle=False)\n",
    "    \n",
    "    device = torch.device(\"cuda\" if torch.cuda.is_available() else \"cpu\")\n",
    "    model = model.to(device)\n",
    "    model.eval()\n",
    "    \n",
    "    all_preds = []\n",
    "    all_labels = []\n",
    "    \n",
    "    with torch.no_grad():\n",
    "        for batch in test_dataloader:\n",
    "            input_ids = batch['input_ids'].to(device)\n",
    "            attention_mask = batch['attention_mask'].to(device)\n",
    "            metadata = batch['metadata'].to(device)\n",
    "            labels = batch['label'].to(device).unsqueeze(1)\n",
    "            \n",
    "            # Prédictions\n",
    "            outputs = model(input_ids, attention_mask, metadata)\n",
    "            \n",
    "            all_preds.append(outputs.cpu().numpy())\n",
    "            all_labels.append(labels.cpu().numpy())\n",
    "\n",
    "\n",
    "    all_preds = np.concatenate(all_preds, axis=0)\n",
    "    all_labels = np.concatenate(all_labels, axis=0)\n",
    "\n",
    "\n",
    "    mse = mean_squared_error(all_labels, all_preds)\n",
    "    print(f'Mean Squared Error (MSE) on the test set: {mse:.4f}')\n",
    "    \n",
    "    for i in range(5):\n",
    "        print(f\"Predicted: {all_preds[i].item()}, Actual: {all_labels[i].item()}\")\n",
    "    return(all_preds)"
   ]
  },
  {
   "cell_type": "code",
   "execution_count": 4,
   "metadata": {},
   "outputs": [],
   "source": [
    "model = BERTWithMetadata(\"bert-base-uncased\", metadata_dim=1).to(device)"
   ]
  },
  {
   "cell_type": "code",
   "execution_count": 5,
   "metadata": {},
   "outputs": [
    {
     "data": {
      "text/plain": [
       "<All keys matched successfully>"
      ]
     },
     "execution_count": 5,
     "metadata": {},
     "output_type": "execute_result"
    }
   ],
   "source": [
    "model.load_state_dict(torch.load(f\"model_reg_10000_classes_32_bathsize.pth\"))"
   ]
  },
  {
   "cell_type": "code",
   "execution_count": 9,
   "metadata": {},
   "outputs": [],
   "source": [
    "from sklearn.model_selection import train_test_split\n",
    "x_train, x_test, y_train, y_test = train_test_split(df[[\"text\", \"day_diff\"]], df[\"rating\"], test_size=0.2, random_state=42)"
   ]
  },
  {
   "cell_type": "code",
   "execution_count": 10,
   "metadata": {},
   "outputs": [
    {
     "name": "stdout",
     "output_type": "stream",
     "text": [
      "Mean Squared Error (MSE) on the test set: 0.5692\n",
      "Predicted: 0.9877808094024658, Actual: 1.0\n",
      "Predicted: 4.7534637451171875, Actual: 4.0\n",
      "Predicted: 1.0721676349639893, Actual: 1.0\n",
      "Predicted: 1.8748422861099243, Actual: 3.0\n",
      "Predicted: 4.467531681060791, Actual: 4.0\n"
     ]
    }
   ],
   "source": [
    "# Charger le modèle pré-entrainé et l'utiliser pour faire des prédictions sur les données de test\n",
    "all_preds = test_model(model, x_test[\"text\"].values, x_test[[\"day_diff\"]].values, y_test.values, tokenizer)"
   ]
  },
  {
   "cell_type": "code",
   "execution_count": 12,
   "metadata": {},
   "outputs": [
    {
     "name": "stdout",
     "output_type": "stream",
     "text": [
      "              precision    recall  f1-score   support\n",
      "\n",
      "           1       0.68      0.54      0.60      1952\n",
      "           2       0.40      0.56      0.47      2017\n",
      "           3       0.49      0.45      0.47      2075\n",
      "           4       0.48      0.67      0.56      2007\n",
      "           5       0.80      0.38      0.51      1949\n",
      "\n",
      "    accuracy                           0.52     10000\n",
      "   macro avg       0.57      0.52      0.52     10000\n",
      "weighted avg       0.57      0.52      0.52     10000\n",
      "\n",
      "RMSE : 0.8182909018191513\n"
     ]
    },
    {
     "data": {
      "image/png": "[encoded data removed]",
      "text/plain": [
       "<Figure size 640x480 with 2 Axes>"
      ]
     },
     "metadata": {},
     "output_type": "display_data"
    }
   ],
   "source": [
    "from sklearn.metrics import confusion_matrix, classification_report, root_mean_squared_error\n",
    "import seaborn as sns\n",
    "y_pred = all_preds.copy()\n",
    "y_pred = y_pred.round().astype(int).squeeze()\n",
    "y_pred[y_pred>5] = 5\n",
    "cm = confusion_matrix(y_test.values, y_pred)\n",
    "sns.heatmap(cm, annot=True, fmt='d', cmap='Blues', xticklabels=range(min(y_pred), max(y_pred)+1), yticklabels=range(min(y_test), max(y_test)+1))\n",
    "print(classification_report(y_test.values, y_pred))\n",
    "print(f\"RMSE : {root_mean_squared_error(y_test.values, y_pred)}\")"
   ]
  },
  {
   "cell_type": "code",
   "execution_count": 1,
   "metadata": {},
   "outputs": [
    {
     "ename": "NameError",
     "evalue": "name 'x_test' is not defined",
     "output_type": "error",
     "traceback": [
      "\u001b[1;31m---------------------------------------------------------------------------\u001b[0m",
      "\u001b[1;31mNameError\u001b[0m                                 Traceback (most recent call last)",
      "Cell \u001b[1;32mIn[1], line 3\u001b[0m\n\u001b[0;32m      1\u001b[0m \u001b[38;5;66;03m# x_test[\"real\"] = y_test\u001b[39;00m\n\u001b[0;32m      2\u001b[0m i \u001b[38;5;241m=\u001b[39m \u001b[38;5;241m1\u001b[39m\n\u001b[1;32m----> 3\u001b[0m mask \u001b[38;5;241m=\u001b[39m \u001b[38;5;28mabs\u001b[39m(\u001b[43mx_test\u001b[49m[\u001b[38;5;124m\"\u001b[39m\u001b[38;5;124mreal\u001b[39m\u001b[38;5;124m\"\u001b[39m]\u001b[38;5;241m-\u001b[39m x_test[\u001b[38;5;124m\"\u001b[39m\u001b[38;5;124mpredict\u001b[39m\u001b[38;5;124m\"\u001b[39m]) \u001b[38;5;241m==\u001b[39m i\n\u001b[0;32m      4\u001b[0m x_test\u001b[38;5;241m.\u001b[39mloc[mask, [\u001b[38;5;124m\"\u001b[39m\u001b[38;5;124mreal\u001b[39m\u001b[38;5;124m\"\u001b[39m, \u001b[38;5;124m\"\u001b[39m\u001b[38;5;124mpredict\u001b[39m\u001b[38;5;124m\"\u001b[39m, \u001b[38;5;124m\"\u001b[39m\u001b[38;5;124mtext\u001b[39m\u001b[38;5;124m\"\u001b[39m]]\u001b[38;5;241m.\u001b[39msample(\u001b[38;5;241m1\u001b[39m)\u001b[38;5;241m.\u001b[39mto_clipboard(excel\u001b[38;5;241m=\u001b[39m\u001b[38;5;28;01mTrue\u001b[39;00m, sep\u001b[38;5;241m=\u001b[39m\u001b[38;5;124m\"\u001b[39m\u001b[38;5;130;01m\\t\u001b[39;00m\u001b[38;5;124m\"\u001b[39m)\n",
      "\u001b[1;31mNameError\u001b[0m: name 'x_test' is not defined"
     ]
    }
   ],
   "source": [
    "# x_test[\"real\"] = y_test\n",
    "i = 1\n",
    "mask = abs(x_test[\"real\"]- x_test[\"predict\"]) == i\n",
    "x_test.loc[mask, [\"real\", \"predict\", \"text\"]].sample(1).to_clipboard(excel=True, sep=\"\\t\")"
   ]
  }
 ],
 "metadata": {
  "kernelspec": {
   "display_name": ".venv",
   "language": "python",
   "name": "python3"
  },
  "language_info": {
   "codemirror_mode": {
    "name": "ipython",
    "version": 3
   },
   "file_extension": ".py",
   "mimetype": "text/x-python",
   "name": "python",
   "nbconvert_exporter": "python",
   "pygments_lexer": "ipython3",
   "version": "3.10.0rc2"
  }
 },
 "nbformat": 4,
 "nbformat_minor": 2
}
